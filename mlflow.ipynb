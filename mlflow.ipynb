{
 "cells": [
  {
   "cell_type": "code",
   "execution_count": 1,
   "id": "3fbc9e86",
   "metadata": {},
   "outputs": [
    {
     "name": "stdout",
     "output_type": "stream",
     "text": [
      "d:\\github\\venvs\\mlflow\\scripts\\python.exe\n"
     ]
    }
   ],
   "source": [
    "# check the env path\n",
    "\n",
    "import sys\n",
    "print(sys.executable)"
   ]
  },
  {
   "cell_type": "code",
   "execution_count": 2,
   "id": "e8011e55",
   "metadata": {},
   "outputs": [
    {
     "name": "stdout",
     "output_type": "stream",
     "text": [
      "Python 3.9.6\n"
     ]
    }
   ],
   "source": [
    "# what's the python version\n",
    "!python --version"
   ]
  },
  {
   "cell_type": "code",
   "execution_count": null,
   "id": "d61e2a15",
   "metadata": {},
   "outputs": [],
   "source": []
  },
  {
   "cell_type": "code",
   "execution_count": 3,
   "id": "488c37f5",
   "metadata": {},
   "outputs": [],
   "source": [
    "# do the imports\n",
    "\n",
    "import pandas as pd\n",
    "import numpy as np\n",
    "\n",
    "from sklearn.model_selection import train_test_split\n",
    "from imblearn.over_sampling import SMOTE\n",
    "from sklearn.ensemble import RandomForestClassifier\n",
    "from sklearn.metrics import accuracy_score,precision_score,recall_score,log_loss\n",
    "from sklearn import metrics\n",
    "from sklearn.metrics import plot_confusion_matrix\n",
    "from sklearn.model_selection import RandomizedSearchCV\n",
    "from sklearn.ensemble import RandomForestClassifier\n",
    "\n",
    "import matplotlib.pyplot as plt\n",
    "\n",
    "import mlflow"
   ]
  },
  {
   "cell_type": "code",
   "execution_count": 4,
   "id": "ce1e5762",
   "metadata": {},
   "outputs": [],
   "source": [
    "# create a class for pre-processing\n",
    "\n",
    "class Preprocessor():\n",
    "    \n",
    "    @staticmethod\n",
    "    def load_data(path):\n",
    "        data = pd.read_csv(path)\n",
    "        return data\n",
    "\n",
    "    \n",
    "    @staticmethod\n",
    "    def data_cleaning(data):\n",
    "        print(\"na values available in data \\n\")\n",
    "        print(data.isna().sum())\n",
    "        data = data.dropna()\n",
    "        print(\"after droping na values \\n\")\n",
    "        print(data.isna().sum())\n",
    "        return data\n",
    "    \n",
    "    \n",
    "    @staticmethod\n",
    "    def preprocessing(data):\n",
    "        data['education']=np.where(data['education'] =='basic.9y', 'Basic', data['education'])\n",
    "        data['education']=np.where(data['education'] =='basic.6y', 'Basic', data['education'])\n",
    "        data['education']=np.where(data['education'] =='basic.4y', 'Basic', data['education'])\n",
    "\n",
    "        cat_vars=['job','marital','education','default','housing','loan','contact','month','day_of_week','poutcome']\n",
    "        for var in cat_vars:\n",
    "            cat_list='var'+'_'+var\n",
    "            cat_list = pd.get_dummies(data[var], prefix=var)\n",
    "            data1=data.join(cat_list)\n",
    "            data=data1\n",
    "\n",
    "        cat_vars=['job','marital','education','default','housing','loan','contact','month','day_of_week','poutcome']\n",
    "        data_vars=data.columns.values.tolist()\n",
    "        to_keep=[i for i in data_vars if i not in cat_vars]\n",
    "\n",
    "        final_data=data[to_keep]\n",
    "\n",
    "        final_data.columns = final_data.columns.str.replace('.','_')\n",
    "        final_data.columns = final_data.columns.str.replace(' ','_')\n",
    "        return final_data\n",
    "    \n",
    "    \n",
    "    @staticmethod\n",
    "    def train_test_split(final_data):\n",
    "        X = final_data.loc[:, final_data.columns != 'y']\n",
    "        y = final_data.loc[:, final_data.columns == 'y']\n",
    "\n",
    "        X_train, X_test, y_train, y_test = train_test_split(X, y, test_size=0.3,stratify = y, random_state=47)\n",
    "        return X_train, X_test, y_train, y_test\n",
    "    \n",
    "    \n",
    "    @staticmethod\n",
    "    def over_sampling_target_class(X_train, y_train):\n",
    "        \n",
    "        os = SMOTE(random_state=0)\n",
    "\n",
    "        columns = X_train.columns\n",
    "        os_data_X,os_data_y=os.fit_resample(X_train, y_train)\n",
    "\n",
    "        os_data_X = pd.DataFrame(data=os_data_X,columns=columns )\n",
    "        os_data_y= pd.DataFrame(data=os_data_y,columns=['y'])\n",
    "        # we can Check the numbers of our data\n",
    "        print(\"length of oversampled data is \",len(os_data_X))\n",
    "        print(\"Number of no subscription in oversampled data\",len(os_data_y[os_data_y['y']==0]))\n",
    "        print(\"Number of subscription\",len(os_data_y[os_data_y['y']==1]))\n",
    "        print(\"Proportion of no subscription data in oversampled data is \",len(os_data_y[os_data_y['y']==0])/len(os_data_X))\n",
    "        print(\"Proportion of subscription data in oversampled data is \",len(os_data_y[os_data_y['y']==1])/len(os_data_X))\n",
    "\n",
    "        X_train = os_data_X\n",
    "        y_train = os_data_y['y']\n",
    "\n",
    "        return X_train, y_train"
   ]
  },
  {
   "cell_type": "code",
   "execution_count": null,
   "id": "3990cbe2",
   "metadata": {},
   "outputs": [],
   "source": []
  },
  {
   "cell_type": "code",
   "execution_count": 5,
   "id": "b4f45590",
   "metadata": {},
   "outputs": [],
   "source": [
    "class Engine():\n",
    "    \n",
    "    @staticmethod\n",
    "    def training_basic_classifier(X_train,y_train):\n",
    "        model = RandomForestClassifier(n_estimators=101)\n",
    "        model.fit(X_train, y_train)\n",
    "        return model\n",
    "\n",
    "    @staticmethod\n",
    "    def predict_on_test_data(model,X_test):\n",
    "        y_pred = model.predict(X_test)\n",
    "        return y_pred\n",
    "    \n",
    "    @staticmethod\n",
    "    def predict_prob_on_test_data(model,X_test):\n",
    "        y_pred = model.predict_proba(X_test)\n",
    "        return y_pred\n",
    "    \n",
    "    @staticmethod\n",
    "    def get_metrics(y_true, y_pred, y_pred_prob):\n",
    "        acc = accuracy_score(y_true, y_pred)\n",
    "        prec = precision_score(y_true, y_pred)\n",
    "        recall = recall_score(y_true, y_pred)\n",
    "        entropy = log_loss(y_true, y_pred_prob)\n",
    "        return {'accuracy': round(acc, 2), 'precision': round(prec, 2), 'recall': round(recall, 2), 'entropy': round(entropy, 2)}  \n",
    "    \n",
    "    @staticmethod\n",
    "    def create_roc_auc_plot(clf, X_data, y_data):\n",
    "        metrics.plot_roc_curve(clf, X_data, y_data) \n",
    "        plt.savefig('roc_auc_curve.png')\n",
    "        \n",
    "    @staticmethod\n",
    "    def create_confusion_matrix_plot(clf, X_test, y_test):\n",
    "        plot_confusion_matrix(clf, X_test, y_test)\n",
    "        plt.savefig('confusion_matrix.png')\n",
    "        \n",
    "    @staticmethod\n",
    "    def hyper_parameter_tuning(X_train, y_train):\n",
    "        # define random parameters grid\n",
    "        n_estimators = [5,21,51,101] # number of trees in the random forest\n",
    "        max_features = ['auto', 'sqrt'] # number of features in consideration at every split\n",
    "        max_depth = [int(x) for x in np.linspace(10, 120, num = 12)] # maximum number of levels allowed in each decision tree\n",
    "        min_samples_split = [2, 6, 10] # minimum sample number to split a node\n",
    "        min_samples_leaf = [1, 3, 4] # minimum sample number that can be stored in a leaf node\n",
    "        bootstrap = [True, False] # method used to sample data points\n",
    "\n",
    "        random_grid = {'n_estimators': n_estimators,\n",
    "                        'max_features': max_features,\n",
    "                        'max_depth': max_depth,\n",
    "                        'min_samples_split': min_samples_split,\n",
    "                        'min_samples_leaf': min_samples_leaf,\n",
    "                        'bootstrap': bootstrap\n",
    "                      }\n",
    "\n",
    "        classifier = RandomForestClassifier()\n",
    "        model_tuning = RandomizedSearchCV(estimator = classifier, param_distributions = random_grid,\n",
    "                       n_iter = 100, cv = 5, verbose=2, random_state=35, n_jobs = -1)\n",
    "        model_tuning.fit(X_train, y_train)\n",
    "\n",
    "        print ('Random grid: ', random_grid, '\\n')\n",
    "        # print the best parameters\n",
    "        print ('Best Parameters: ', model_tuning.best_params_, ' \\n')\n",
    "\n",
    "        best_params = model_tuning.best_params_\n",
    "\n",
    "        n_estimators = best_params['n_estimators']\n",
    "        min_samples_split = best_params['min_samples_split']\n",
    "        min_samples_leaf = best_params['min_samples_leaf']\n",
    "        max_features = best_params['max_features']\n",
    "        max_depth = best_params['max_depth']\n",
    "        bootstrap = best_params['bootstrap']\n",
    "\n",
    "        model_tuned = RandomForestClassifier(n_estimators = n_estimators, min_samples_split = min_samples_split,\n",
    "                                             min_samples_leaf= min_samples_leaf, max_features = max_features,\n",
    "                                             max_depth= max_depth, bootstrap=bootstrap) \n",
    "        model_tuned.fit( X_train, y_train)\n",
    "        return model_tuned,best_params"
   ]
  },
  {
   "cell_type": "code",
   "execution_count": null,
   "id": "0f02f08f",
   "metadata": {},
   "outputs": [],
   "source": []
  },
  {
   "cell_type": "code",
   "execution_count": 6,
   "id": "8a860545",
   "metadata": {},
   "outputs": [
    {
     "name": "stdout",
     "output_type": "stream",
     "text": [
      "na values available in data \n",
      "\n",
      "age               0\n",
      "job               0\n",
      "marital           0\n",
      "education         0\n",
      "default           0\n",
      "housing           0\n",
      "loan              0\n",
      "contact           0\n",
      "month             0\n",
      "day_of_week       0\n",
      "duration          0\n",
      "campaign          0\n",
      "pdays             0\n",
      "previous          0\n",
      "poutcome          0\n",
      "emp_var_rate      0\n",
      "cons_price_idx    0\n",
      "cons_conf_idx     0\n",
      "euribor3m         0\n",
      "nr_employed       0\n",
      "y                 0\n",
      "dtype: int64\n",
      "after droping na values \n",
      "\n",
      "age               0\n",
      "job               0\n",
      "marital           0\n",
      "education         0\n",
      "default           0\n",
      "housing           0\n",
      "loan              0\n",
      "contact           0\n",
      "month             0\n",
      "day_of_week       0\n",
      "duration          0\n",
      "campaign          0\n",
      "pdays             0\n",
      "previous          0\n",
      "poutcome          0\n",
      "emp_var_rate      0\n",
      "cons_price_idx    0\n",
      "cons_conf_idx     0\n",
      "euribor3m         0\n",
      "nr_employed       0\n",
      "y                 0\n",
      "dtype: int64\n"
     ]
    }
   ],
   "source": [
    "data = Preprocessor.load_data(\"./data.csv\")\n",
    "cleaned_data = Preprocessor.data_cleaning(data)"
   ]
  },
  {
   "cell_type": "code",
   "execution_count": 7,
   "id": "a46d55ab",
   "metadata": {},
   "outputs": [
    {
     "name": "stderr",
     "output_type": "stream",
     "text": [
      "C:\\Users\\laksh\\AppData\\Local\\Temp\\ipykernel_5884\\523771657.py:40: FutureWarning: The default value of regex will change from True to False in a future version. In addition, single character regular expressions will *not* be treated as literal strings when regex=True.\n",
      "  final_data.columns = final_data.columns.str.replace('.','_')\n"
     ]
    }
   ],
   "source": [
    "final_data = Preprocessor.preprocessing(cleaned_data)"
   ]
  },
  {
   "cell_type": "code",
   "execution_count": 8,
   "id": "cbdeba53",
   "metadata": {},
   "outputs": [],
   "source": [
    "X_train, X_test, y_train, y_test = Preprocessor.train_test_split(final_data)"
   ]
  },
  {
   "cell_type": "code",
   "execution_count": 9,
   "id": "63009e44",
   "metadata": {},
   "outputs": [
    {
     "name": "stdout",
     "output_type": "stream",
     "text": [
      "length of oversampled data is  51166\n",
      "Number of no subscription in oversampled data 25583\n",
      "Number of subscription 25583\n",
      "Proportion of no subscription data in oversampled data is  0.5\n",
      "Proportion of subscription data in oversampled data is  0.5\n"
     ]
    }
   ],
   "source": [
    "X_train, y_train = Preprocessor.over_sampling_target_class(X_train, y_train)"
   ]
  },
  {
   "cell_type": "code",
   "execution_count": 10,
   "id": "124f9e3e",
   "metadata": {},
   "outputs": [],
   "source": [
    "model = Engine.training_basic_classifier(X_train,y_train)"
   ]
  },
  {
   "cell_type": "code",
   "execution_count": 14,
   "id": "14d4513e",
   "metadata": {},
   "outputs": [
    {
     "data": {
      "text/plain": [
       "array([0, 0, 0, ..., 0, 0, 0], dtype=int64)"
      ]
     },
     "execution_count": 14,
     "metadata": {},
     "output_type": "execute_result"
    }
   ],
   "source": [
    "y_pred = Engine.predict_on_test_data(model,X_test)\n",
    "y_pred"
   ]
  },
  {
   "cell_type": "code",
   "execution_count": 15,
   "id": "e07ab616",
   "metadata": {},
   "outputs": [
    {
     "data": {
      "text/plain": [
       "array([[0.99009901, 0.00990099],\n",
       "       [0.97029703, 0.02970297],\n",
       "       [0.94059406, 0.05940594],\n",
       "       ...,\n",
       "       [1.        , 0.        ],\n",
       "       [0.63366337, 0.36633663],\n",
       "       [1.        , 0.        ]])"
      ]
     },
     "execution_count": 15,
     "metadata": {},
     "output_type": "execute_result"
    }
   ],
   "source": [
    "y_pred_prob = Engine.predict_prob_on_test_data(model,X_test) #model.predict_proba(X_test)\n",
    "y_pred_prob"
   ]
  },
  {
   "cell_type": "code",
   "execution_count": 16,
   "id": "08b23ead",
   "metadata": {},
   "outputs": [
    {
     "data": {
      "text/plain": [
       "{'accuracy': 0.91, 'precision': 0.63, 'recall': 0.52, 'entropy': 0.2}"
      ]
     },
     "execution_count": 16,
     "metadata": {},
     "output_type": "execute_result"
    }
   ],
   "source": [
    "run_metrics = Engine.get_metrics(y_test, y_pred, y_pred_prob)\n",
    "run_metrics"
   ]
  },
  {
   "cell_type": "code",
   "execution_count": 17,
   "id": "22537829",
   "metadata": {},
   "outputs": [
    {
     "name": "stderr",
     "output_type": "stream",
     "text": [
      "d:\\github\\venvs\\mlflow\\lib\\site-packages\\sklearn\\utils\\deprecation.py:87: FutureWarning: Function plot_roc_curve is deprecated; Function :func:`plot_roc_curve` is deprecated in 1.0 and will be removed in 1.2. Use one of the class methods: :meth:`sklearn.metrics.RocCurveDisplay.from_predictions` or :meth:`sklearn.metrics.RocCurveDisplay.from_estimator`.\n",
      "  warnings.warn(msg, category=FutureWarning)\n"
     ]
    },
    {
     "data": {
      "image/png": "[encoded data removed]",
      "text/plain": [
       "<Figure size 640x480 with 1 Axes>"
      ]
     },
     "metadata": {},
     "output_type": "display_data"
    }
   ],
   "source": [
    "Engine.create_roc_auc_plot(model, X_test, y_test)"
   ]
  },
  {
   "cell_type": "code",
   "execution_count": 18,
   "id": "86bc6e31",
   "metadata": {},
   "outputs": [
    {
     "name": "stderr",
     "output_type": "stream",
     "text": [
      "d:\\github\\venvs\\mlflow\\lib\\site-packages\\sklearn\\utils\\deprecation.py:87: FutureWarning: Function plot_confusion_matrix is deprecated; Function `plot_confusion_matrix` is deprecated in 1.0 and will be removed in 1.2. Use one of the class methods: ConfusionMatrixDisplay.from_predictions or ConfusionMatrixDisplay.from_estimator.\n",
      "  warnings.warn(msg, category=FutureWarning)\n"
     ]
    },
    {
     "data": {
      "image/png": "[encoded data removed]",
      "text/plain": [
       "<Figure size 640x480 with 2 Axes>"
      ]
     },
     "metadata": {},
     "output_type": "display_data"
    }
   ],
   "source": [
    "Engine.create_confusion_matrix_plot(model, X_test, y_test)"
   ]
  },
  {
   "cell_type": "code",
   "execution_count": null,
   "id": "b6731224",
   "metadata": {},
   "outputs": [],
   "source": []
  },
  {
   "cell_type": "code",
   "execution_count": 19,
   "id": "af13ec0d",
   "metadata": {},
   "outputs": [
    {
     "name": "stdout",
     "output_type": "stream",
     "text": [
      "{'accuracy': 0.91, 'precision': 0.63, 'recall': 0.52, 'entropy': 0.2}\n"
     ]
    }
   ],
   "source": [
    "#mlflow\n",
    "\n",
    "experiment_name = \"basic_classifier\"\n",
    "run_name = \"term_deposit\"\n",
    "run_metrics = Engine.get_metrics(y_test, y_pred, y_pred_prob)\n",
    "print(run_metrics)"
   ]
  },
  {
   "cell_type": "code",
   "execution_count": 21,
   "id": "f72e13e3",
   "metadata": {},
   "outputs": [],
   "source": [
    "def create_experiment(experiment_name,run_name, run_metrics,model, confusion_matrix_path = None, \n",
    "                      roc_auc_plot_path = None, run_params=None):\n",
    "\n",
    "    #     mlflow.set_tracking_uri('http://localhost:5000') # when using sql as a database\n",
    "''' \n",
    "Without this, all the experiments and artifacts are stored in the file registry. With this command\n",
    "the data is stored in the database, but we need to configure the database (see further sections).\n",
    "'''\n",
    "    mlflow.set_experiment(experiment_name) \n",
    "\n",
    "    with mlflow.start_run():\n",
    "        \n",
    "        if not run_params == None:\n",
    "            for param in run_params:\n",
    "                mlflow.log_param(param, run_params[param])\n",
    "            \n",
    "        for metric in run_metrics:\n",
    "            mlflow.log_metric(metric, run_metrics[metric])\n",
    "        \n",
    "        mlflow.sklearn.log_model(model, \"model\")\n",
    "        \n",
    "        if not confusion_matrix_path == None:\n",
    "            mlflow.log_artifact(confusion_matrix_path, 'confusion_materix')\n",
    "            \n",
    "        if not roc_auc_plot_path == None:\n",
    "            mlflow.log_artifact(roc_auc_plot_path, \"roc_auc_plot\")\n",
    "        \n",
    "        mlflow.set_tag(\"tag1\", \"Random Forest\")\n",
    "        mlflow.set_tags({\"tag2\":\"Randomized Search CV\", \"tag3\":\"Production\"})\n",
    "            \n",
    "    print('Run - %s is logged to Experiment - %s' %(run_name, experiment_name))"
   ]
  },
  {
   "cell_type": "code",
   "execution_count": 22,
   "id": "2951c612",
   "metadata": {},
   "outputs": [
    {
     "name": "stderr",
     "output_type": "stream",
     "text": [
      "2022/10/19 21:51:30 INFO mlflow.tracking.fluent: Experiment with name 'basic_classifier' does not exist. Creating a new experiment.\n"
     ]
    },
    {
     "name": "stdout",
     "output_type": "stream",
     "text": [
      "Run - term_deposit is logged to Experiment - basic_classifier\n"
     ]
    }
   ],
   "source": [
    "create_experiment(experiment_name,run_name,run_metrics,model,'confusion_matrix.png', 'roc_auc_curve.png')"
   ]
  },
  {
   "cell_type": "code",
   "execution_count": null,
   "id": "c12400be",
   "metadata": {},
   "outputs": [],
   "source": [
    "# Create another experiment after tuning hyperparameters and log the best set of parameters for \n",
    "# which model gives the optimal performance\n",
    "\n",
    "import mlflow\n",
    "experiment_name = \"optimized model\"\n",
    "run_name=\"Random_Search_CV_Tuned_Model\"\n",
    "model_tuned,best_params = Engine.hyper_parameter_tuning(X_train, y_train)\n",
    "run_params = best_params\n",
    "\n",
    "y_pred = Engine.predict_on_test_data(model_tuned,X_test) #will return the predicted class\n",
    "y_pred_prob = Engine.predict_prob_on_test_data(model_tuned,X_test) #model.predict_proba(X_test)\n",
    "run_metrics = Engine.get_metrics(y_test, y_pred, y_pred_prob)"
   ]
  },
  {
   "cell_type": "code",
   "execution_count": 25,
   "id": "a017bb0e",
   "metadata": {},
   "outputs": [
    {
     "data": {
      "text/plain": [
       "{'accuracy': 0.91, 'precision': 0.63, 'recall': 0.52, 'entropy': 0.2}"
      ]
     },
     "execution_count": 25,
     "metadata": {},
     "output_type": "execute_result"
    }
   ],
   "source": [
    "run_metrics"
   ]
  },
  {
   "cell_type": "code",
   "execution_count": 26,
   "id": "a68a9256",
   "metadata": {},
   "outputs": [
    {
     "name": "stdout",
     "output_type": "stream",
     "text": [
      "n_estimators 101\n",
      "min_samples_split 6\n",
      "min_samples_leaf 3\n",
      "max_features sqrt\n",
      "max_depth 50\n",
      "bootstrap True\n"
     ]
    }
   ],
   "source": [
    "for param in run_params:\n",
    "    print(param, run_params[param])"
   ]
  },
  {
   "cell_type": "code",
   "execution_count": 27,
   "id": "eb99ad93",
   "metadata": {},
   "outputs": [
    {
     "name": "stderr",
     "output_type": "stream",
     "text": [
      "2022/10/19 21:55:34 INFO mlflow.tracking.fluent: Experiment with name 'optimized model' does not exist. Creating a new experiment.\n"
     ]
    },
    {
     "name": "stdout",
     "output_type": "stream",
     "text": [
      "Run - Random_Search_CV_Tuned_Model is logged to Experiment - optimized model\n"
     ]
    }
   ],
   "source": [
    "create_experiment(experiment_name,run_name,run_metrics,model_tuned,'confusion_matrix.png', 'roc_auc_curve.png',run_params)"
   ]
  },
  {
   "cell_type": "code",
   "execution_count": null,
   "id": "a0321cb7",
   "metadata": {},
   "outputs": [],
   "source": []
  },
  {
   "cell_type": "markdown",
   "id": "8b19f7e3",
   "metadata": {},
   "source": [
    "To use model registry, database is required. Instead of running the UI directly, the tracking API uses sqlite as a backend storage.\n"
   ]
  },
  {
   "cell_type": "code",
   "execution_count": 1,
   "id": "cff8f77a",
   "metadata": {},
   "outputs": [
    {
     "name": "stdout",
     "output_type": "stream",
     "text": [
      "Collecting pysqlite3\n",
      "  Downloading pysqlite3-0.4.7.tar.gz (40 kB)\n",
      "Using legacy 'setup.py install' for pysqlite3, since package 'wheel' is not installed.\n",
      "Installing collected packages: pysqlite3\n",
      "    Running setup.py install for pysqlite3: started\n",
      "    Running setup.py install for pysqlite3: finished with status 'done'\n",
      "Successfully installed pysqlite3\n"
     ]
    },
    {
     "name": "stderr",
     "output_type": "stream",
     "text": [
      "WARNING: You are using pip version 21.1.3; however, version 22.3 is available.\n",
      "You should consider upgrading via the 'd:\\github\\venvs\\mlflow\\scripts\\python.exe -m pip install --upgrade pip' command.\n"
     ]
    }
   ],
   "source": [
    "!pip install pysqlite3"
   ]
  },
  {
   "cell_type": "markdown",
   "id": "b0d4c78c",
   "metadata": {},
   "source": [
    "# MySQL\n",
    "\n",
    "`CREATE DATABASE mlflow_tracking_database;`\n",
    "\n",
    "- Start MLflow tracking server using MySQL as a backend tracking store.\n",
    "\n",
    "`mlflow server \\ --backend-store-uri  mysql+pymysql://root@localhost/mlflow_tracking_database \\ --default-artifact-root  file:/./mlruns \\ -h 0.0.0.0 -p 5000`\n",
    "\n",
    "- Set the MLflow tracking uri (within code section)\n",
    "\n",
    "`mlflow.set_tracking_uri(\"http://localhost:5000\")`"
   ]
  },
  {
   "cell_type": "markdown",
   "id": "402ab50e",
   "metadata": {},
   "source": [
    "# sqlite\n",
    "\n",
    "- Start MLflow tracking server using sqlite as a backend tracking store\n",
    "\n",
    "`mlflow server --backend-store-uri sqlite:///mlflow.db --default-artifact-root ./artifacts --host 0.0.0.0 --port 5000\n",
    "\n",
    "`- Set the MLflow tracking uri (within code section)\n",
    "\n",
    "`mlflow.set_tracking_uri(\"http://localhost:5000\")`\n",
    "\n",
    "- You can also follow the official documentation for more information on backend database for model registry\n",
    "\n",
    "https://www.mlflow.org/docs/latest/model-registry.html#model-registry-workflows"
   ]
  },
  {
   "cell_type": "code",
   "execution_count": null,
   "id": "13997d3f",
   "metadata": {},
   "outputs": [],
   "source": []
  },
  {
   "cell_type": "code",
   "execution_count": null,
   "id": "128339d0",
   "metadata": {},
   "outputs": [],
   "source": []
  },
  {
   "cell_type": "code",
   "execution_count": null,
   "id": "fda804d9",
   "metadata": {},
   "outputs": [],
   "source": []
  }
 ],
 "metadata": {
  "kernelspec": {
   "display_name": "mlflow",
   "language": "python",
   "name": "mlflow"
  },
  "language_info": {
   "codemirror_mode": {
    "name": "ipython",
    "version": 3
   },
   "file_extension": ".py",
   "mimetype": "text/x-python",
   "name": "python",
   "nbconvert_exporter": "python",
   "pygments_lexer": "ipython3",
   "version": "3.9.6"
  }
 },
 "nbformat": 4,
 "nbformat_minor": 5
}
